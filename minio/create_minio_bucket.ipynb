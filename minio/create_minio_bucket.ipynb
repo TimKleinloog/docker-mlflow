{
  "cells": [
    {
      "cell_type": "markdown",
      "source": [
        "# Minio create bucket\n",
        "- open-source object storage server that stores unstructured data\n",
        "- alternative to AWS S3 buckets\n",
        "- AWS-S3 compatable\n",
        "- python API ref: https://docs.minio.io/docs/python-client-api-reference.html\n",
        "- to quickly set-up a server see: https://docs.minio.io/docs/minio-docker-quickstart-guide\n",
        "    - easy to set-up on linux or windows\n",
        "- in another notebook, we will try to use minio to store model artifacts for MLflow"
      ],
      "metadata": {}
    },
    {
      "cell_type": "markdown",
      "source": [
        "## Import dependencies"
      ],
      "metadata": {}
    },
    {
      "cell_type": "code",
      "source": [
        "from minio import Minio\n",
        "from minio.error import ResponseError\n",
        "import json\n",
        "import os"
      ],
      "outputs": [],
      "execution_count": 1,
      "metadata": {}
    },
    {
      "cell_type": "markdown",
      "source": [
        "## Instantiate a client object\n",
        "- read envirnoment varaibles (should set them before open notebook)"
      ],
      "metadata": {}
    },
    {
      "cell_type": "code",
      "source": [
        "minioClient = Minio(os.environ['MLFLOW_S3_ENDPOINT_URL'].split('//')[1],\n",
        "                  access_key=os.environ['AWS_ACCESS_KEY_ID'],\n",
        "                  secret_key=os.environ['AWS_SECRET_ACCESS_KEY'],\n",
        "                  secure=False)"
      ],
      "outputs": [],
      "execution_count": null,
      "metadata": {}
    },
    {
      "cell_type": "markdown",
      "source": [
        "## List the buckets in the server\n",
        "- none were found"
      ],
      "metadata": {}
    },
    {
      "cell_type": "code",
      "source": [
        "minioClient.list_buckets()"
      ],
      "outputs": [],
      "execution_count": null,
      "metadata": {}
    },
    {
      "cell_type": "markdown",
      "source": [
        "## Let's create an s3 compatible bucket\n",
        "- we'll name the bucket 'mlflow'"
      ],
      "metadata": {}
    },
    {
      "cell_type": "code",
      "source": [
        "try:\n",
        "    minioClient.make_bucket('mlflow')\n",
        "except ResponseError as err:\n",
        "    print(err)"
      ],
      "outputs": [],
      "execution_count": null,
      "metadata": {}
    },
    {
      "cell_type": "code",
      "source": [
        "buckets = minioClient.list_buckets()\n",
        "for bucket in buckets:\n",
        "    print(bucket.name, bucket.creation_date)"
      ],
      "outputs": [],
      "execution_count": null,
      "metadata": {}
    },
    {
      "cell_type": "markdown",
      "source": [
        "## Now we need to set the bucket policy\n",
        "- see: https://docs.aws.amazon.com/AmazonS3/latest/dev/using-with-s3-actions.html"
      ],
      "metadata": {}
    },
    {
      "cell_type": "code",
      "source": [
        "policy = {\"Version\":\"2012-10-17\",\n",
        "        \"Statement\":[\n",
        "            {\n",
        "            \"Sid\":\"\",\n",
        "            \"Effect\":\"Allow\",\n",
        "            \"Principal\":{\"AWS\":\"*\"},\n",
        "            \"Action\":\"s3:GetBucketLocation\",\n",
        "            \"Resource\":\"arn:aws:s3:::mlflow\"\n",
        "            },\n",
        "            {\n",
        "            \"Sid\":\"\",\n",
        "            \"Effect\":\"Allow\",\n",
        "            \"Principal\":{\"AWS\":\"*\"},\n",
        "            \"Action\":\"s3:ListBucket\",\n",
        "            \"Resource\":\"arn:aws:s3:::mlflow\"\n",
        "            },\n",
        "            {\n",
        "            \"Sid\":\"\",\n",
        "            \"Effect\":\"Allow\",\n",
        "            \"Principal\":{\"AWS\":\"*\"},\n",
        "            \"Action\":\"s3:GetObject\",\n",
        "            \"Resource\":\"arn:aws:s3:::mlflow/*\"\n",
        "            },\n",
        "            {\n",
        "            \"Sid\":\"\",\n",
        "            \"Effect\":\"Allow\",\n",
        "            \"Principal\":{\"AWS\":\"*\"},\n",
        "            \"Action\":\"s3:PutObject\",\n",
        "            \"Resource\":\"arn:aws:s3:::mlflow/*\"\n",
        "            }\n",
        "\n",
        "        ]}"
      ],
      "outputs": [],
      "execution_count": null,
      "metadata": {}
    },
    {
      "cell_type": "code",
      "source": [
        "minioClient.set_bucket_policy('mlflow', json.dumps(policy))"
      ],
      "outputs": [],
      "execution_count": null,
      "metadata": {}
    },
    {
      "cell_type": "markdown",
      "source": [
        "## List all the objects in a bucket"
      ],
      "metadata": {}
    },
    {
      "cell_type": "code",
      "source": [
        "# List all object paths in bucket that begin with my-prefixname.\n",
        "objects = minioClient.list_objects('mlflow', prefix='my',\n",
        "                              recursive=True)\n",
        "for obj in objects:\n",
        "    print(obj.bucket_name, obj.object_name.encode('utf-8'), obj.last_modified,\n",
        "          obj.etag, obj.size, obj.content_type)"
      ],
      "outputs": [],
      "execution_count": null,
      "metadata": {}
    }
  ],
  "metadata": {
    "kernelspec": {
      "name": "python3",
      "language": "python",
      "display_name": "Python 3"
    },
    "language_info": {
      "name": "python",
      "version": "3.7.2",
      "mimetype": "text/x-python",
      "codemirror_mode": {
        "name": "ipython",
        "version": 3
      },
      "pygments_lexer": "ipython3",
      "nbconvert_exporter": "python",
      "file_extension": ".py"
    },
    "kernel_info": {
      "name": "python3"
    },
    "nteract": {
      "version": "0.15.0"
    }
  },
  "nbformat": 4,
  "nbformat_minor": 2
}