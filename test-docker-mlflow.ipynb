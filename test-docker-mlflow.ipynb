{
  "cells": [
    {
      "cell_type": "code",
      "source": [
        "import mlflow\n",
        "import mlflow.sklearn"
      ],
      "outputs": [],
      "execution_count": null,
      "metadata": {
        "collapsed": false,
        "outputHidden": false,
        "inputHidden": false
      }
    },
    {
      "cell_type": "code",
      "source": [
        "import os\n",
        "import warnings\n",
        "import sys\n",
        "\n",
        "import pandas as pd\n",
        "import numpy as np\n",
        "\n",
        "from sklearn.metrics import mean_squared_error, mean_absolute_error, r2_score\n",
        "from sklearn.model_selection import train_test_split\n",
        "from sklearn.linear_model import ElasticNet"
      ],
      "outputs": [],
      "execution_count": null,
      "metadata": {
        "collapsed": false,
        "outputHidden": false,
        "inputHidden": false
      }
    },
    {
      "cell_type": "code",
      "source": [
        "data_path = \"data/wine-quality.csv\"\n",
        "data = pd.read_csv(data_path)\n",
        "\n",
        "data.sample(10)"
      ],
      "outputs": [],
      "execution_count": null,
      "metadata": {
        "collapsed": false,
        "outputHidden": false,
        "inputHidden": false
      }
    },
    {
      "cell_type": "code",
      "source": [
        "remote_server_uri = \"http://localhost:5000\""
      ],
      "outputs": [],
      "execution_count": null,
      "metadata": {
        "collapsed": false,
        "outputHidden": false,
        "inputHidden": false
      }
    },
    {
      "cell_type": "code",
      "source": [
        "mlflow.set_tracking_uri(remote_server_uri)"
      ],
      "outputs": [],
      "execution_count": null,
      "metadata": {
        "collapsed": false,
        "outputHidden": false,
        "inputHidden": false
      }
    },
    {
      "cell_type": "code",
      "source": [
        "mlflow.tracking.get_tracking_uri()"
      ],
      "outputs": [],
      "execution_count": null,
      "metadata": {
        "collapsed": false,
        "outputHidden": false,
        "inputHidden": false
      }
    },
    {
      "cell_type": "code",
      "source": [
        "exp_name = \"ElasticNet_wine\""
      ],
      "outputs": [],
      "execution_count": null,
      "metadata": {
        "collapsed": false,
        "outputHidden": false,
        "inputHidden": false
      }
    },
    {
      "cell_type": "code",
      "source": [
        "mlflow.set_experiment(exp_name)"
      ],
      "outputs": [],
      "execution_count": null,
      "metadata": {
        "collapsed": false,
        "outputHidden": false,
        "inputHidden": false
      }
    },
    {
      "cell_type": "code",
      "source": [
        "def eval_metrics(actual, pred):\n",
        "    # compute relevant metrics\n",
        "    rmse = np.sqrt(mean_squared_error(actual, pred))\n",
        "    mae = mean_absolute_error(actual, pred)\n",
        "    r2 = r2_score(actual, pred)\n",
        "    return rmse, mae, r2\n",
        "\n",
        "\n",
        "def load_data(data_path):\n",
        "    data = pd.read_csv(data_path)\n",
        "\n",
        "    # Split the data into training and test sets. (0.75, 0.25) split.\n",
        "    train, test = train_test_split(data)\n",
        "\n",
        "    # The predicted column is \"quality\" which is a scalar from [3, 9]\n",
        "    train_x = train.drop([\"quality\"], axis=1)\n",
        "    test_x = test.drop([\"quality\"], axis=1)\n",
        "    train_y = train[[\"quality\"]]\n",
        "    test_y = test[[\"quality\"]]\n",
        "    return train_x, train_y, test_x, test_y\n",
        "\n",
        "\n",
        "def train(alpha=0.5, l1_ratio=0.5):\n",
        "    # train a model with given parameters\n",
        "    warnings.filterwarnings(\"ignore\")\n",
        "    np.random.seed(40)\n",
        "\n",
        "    # Read the wine-quality csv file (make sure you're running this from the root of MLflow!)\n",
        "    data_path = \"data/wine-quality.csv\"\n",
        "    train_x, train_y, test_x, test_y = load_data(data_path)\n",
        "\n",
        "    # Useful for multiple runs (only doing one run in this sample notebook)    \n",
        "    with mlflow.start_run():\n",
        "        # Execute ElasticNet\n",
        "        lr = ElasticNet(alpha=alpha, l1_ratio=l1_ratio, random_state=42)\n",
        "        lr.fit(train_x, train_y)\n",
        "\n",
        "        # Evaluate Metrics\n",
        "        predicted_qualities = lr.predict(test_x)\n",
        "        (rmse, mae, r2) = eval_metrics(test_y, predicted_qualities)\n",
        "\n",
        "        # Print out metrics\n",
        "        print(\"Elasticnet model (alpha=%f, l1_ratio=%f):\" % (alpha, l1_ratio))\n",
        "        print(\"  RMSE: %s\" % rmse)\n",
        "        print(\"  MAE: %s\" % mae)\n",
        "        print(\"  R2: %s\" % r2)\n",
        "\n",
        "        # Log parameter, metrics, and model to MLflow\n",
        "        mlflow.log_param(key=\"alpha\", value=alpha)\n",
        "        mlflow.log_param(key=\"l1_ratio\", value=l1_ratio)\n",
        "        mlflow.log_metric(key=\"rmse\", value=rmse)\n",
        "        mlflow.log_metrics({\"mae\": mae, \"r2\": r2})\n",
        "        mlflow.log_artifact(data_path)\n",
        "        print(\"Save to: {}\".format(mlflow.get_artifact_uri()))\n",
        "        \n",
        "        mlflow.sklearn.log_model(lr, \"model\")"
      ],
      "outputs": [],
      "execution_count": null,
      "metadata": {
        "collapsed": false,
        "outputHidden": false,
        "inputHidden": false
      }
    },
    {
      "cell_type": "code",
      "source": [
        "train(0.5, 0.5)"
      ],
      "outputs": [],
      "execution_count": null,
      "metadata": {
        "collapsed": false,
        "outputHidden": false,
        "inputHidden": false
      }
    },
    {
      "cell_type": "code",
      "source": [
        "root"
      ],
      "outputs": [],
      "execution_count": null,
      "metadata": {
        "collapsed": false,
        "outputHidden": false,
        "inputHidden": false
      }
    }
  ],
  "metadata": {
    "kernel_info": {
      "name": "python3"
    },
    "language_info": {
      "name": "python",
      "version": "3.7.2",
      "mimetype": "text/x-python",
      "codemirror_mode": {
        "name": "ipython",
        "version": 3
      },
      "pygments_lexer": "ipython3",
      "nbconvert_exporter": "python",
      "file_extension": ".py"
    },
    "kernelspec": {
      "name": "python3",
      "language": "python",
      "display_name": "Python 3"
    },
    "nteract": {
      "version": "0.15.0"
    }
  },
  "nbformat": 4,
  "nbformat_minor": 0
}